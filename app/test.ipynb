{
      "cells": [
            {
                  "cell_type": "code",
                  "execution_count": null,
                  "id": "6cd4f0d9",
                  "metadata": {},
                  "outputs": [],
                  "source": [
                        "import nest_asyncio\n",
                        "\n",
                        "nest_asyncio.apply()\n",
                        "\n",
                        "import asyncio\n",
                        "import httpx\n",
                        "\n",
                        "async def main():\n",
                        "    url = \"http://127.0.0.1:8000/chat/stream\"\n",
                        "    json_data = {\n",
                        "        \"model\": \"GLM-4.5-Flash\",\n",
                        "        \"message\": \"你可以做什么\"\n",
                        "    }\n",
                        "\n",
                        "    async with httpx.AsyncClient(timeout=None) as client:\n",
                        "        async with client.stream(\"POST\", url, json=json_data) as response:\n",
                        "            async for chunk in response.aiter_text():\n",
                        "                print(chunk, end=\"\", flush=True)\n",
                        "\n",
                        "asyncio.get_event_loop().run_until_complete(main())\n"
                  ]
            },
            {
                  "cell_type": "code",
                  "execution_count": null,
                  "id": "99452881",
                  "metadata": {},
                  "outputs": [],
                  "source": [
                        "import requests\n",
                        "\n",
                        "url = \"http://124.222.61.180:8000/chat\"\n",
                        "# url=\"http://127.0.0.1:8000/chat\"\n",
                        "payload = {\n",
                        "    \"model\": \"GLM-4.5-Flash\",\n",
                        "    \"message\": \"请帮我写一个python请求示例\"\n",
                        "}\n",
                        "\n",
                        "response = requests.post(url, json=payload)\n",
                        "data = response.json()\n",
                        "\n",
                        "print(\"回复内容:\", data.get(\"reply\"))\n"
                  ]
            },
            {
                  "cell_type": "code",
                  "execution_count": 10,
                  "id": "9c75196a",
                  "metadata": {},
                  "outputs": [
                        {
                              "name": "stdout",
                              "output_type": "stream",
                              "text": [
                                    "根据最新数据，上海今天的天气情况如下：当前温度为30.2°C，天气晴朗，湿度为75%。东南风风速为16.9公里/小时，气压1012毫巴，无降水。体感温度较高，达到37.8°C。目前是夜晚，能见度良好，为10公里。\n"
                              ]
                        }
                  ],
                  "source": [
                        "import requests\n",
                        "import json\n",
                        "\n",
                        "url = \"http://124.222.61.180:8000/chat/mcp/stream\"\n",
                        "url=\"http://127.0.0.1:8000/chat/mcp/stream\"\n",
                        "\n",
                        "payload = {\n",
                        "    \"model\": \"GLM-4.5-Flash\",\n",
                        "    \"message\": \"今天上海天气\"\n",
                        "}\n",
                        "\n",
                        "# 流式请求\n",
                        "with requests.post(url, json=payload, stream=True) as response:\n",
                        "    for line in response.iter_lines(decode_unicode=True):\n",
                        "        if line:\n",
                        "            try:\n",
                        "                # 如果服务端每行是 JSON，可以解析\n",
                        "                data = json.loads(line)\n",
                        "                print(\"流式输出:\", data.get(\"reply\", data))\n",
                        "            except json.JSONDecodeError:\n",
                        "                # 如果服务端每行是纯文本\n",
                        "                print(line)\n"
                  ]
            },
            {
                  "cell_type": "code",
                  "execution_count": null,
                  "id": "2a8eefc1",
                  "metadata": {},
                  "outputs": [],
                  "source": [
                        "import requests\n",
                        "import os\n",
                        "import openai\n",
                        "\n",
                        "SERVER_IP = os.environ.get(\"SERVER_IP\", \"\")\n",
                        "response = requests.get(\"http://124.222.61.180:8000/monitor\")\n",
                        "response = requests.get(\"http://127.0.0.1:8000/monitor\")\n",
                        "if response.status_code == 200:\n",
                        "    data = response.json()\n",
                        "    print(\"监控数据:\", data)\n",
                        "else:\n",
                        "    print(\"请求失败，状态码:\", response.status_code)\n"
                  ]
            },
            {
                  "cell_type": "code",
                  "execution_count": null,
                  "id": "6f6ebdf7",
                  "metadata": {},
                  "outputs": [],
                  "source": [
                        "\n",
                        "from app.api.mcp.mcp_tools.register_tool import parse_curl_and_register,tools\n",
                        "curl_text = 'curl -X GET \"https://api.weatherapi.com/v1/current.json?key=c502ec55fecd4b0d969141024251008&q=hefei&lang=zh\" -H \"accept: application/json\"'\n",
                        "parse_curl_and_register(curl_text, \"天气\", auth_required=False)\n",
                        "\n",
                        "# 调用并覆盖查询参数 q\n",
                        "result = tools[\"天气\"][\"func\"](params={\"q\": \"shanghai\"})\n",
                        "print(result)\n"
                  ]
            },
            {
                  "cell_type": "code",
                  "execution_count": null,
                  "id": "8e0b8154",
                  "metadata": {},
                  "outputs": [],
                  "source": [
                        "print(tools)"
                  ]
            },
            {
                  "cell_type": "code",
                  "execution_count": null,
                  "id": "07dbd1c3",
                  "metadata": {},
                  "outputs": [],
                  "source": [
                        "# 调用工具\n",
                        "result = tools[\"天气\"][\"func\"]()\n",
                        "print(result)"
                  ]
            },
            {
                  "cell_type": "code",
                  "execution_count": null,
                  "id": "22ee85a2",
                  "metadata": {},
                  "outputs": [],
                  "source": [
                        "from api.mcp.mcp_tools.tools import save_tool_to_db, load_tool_from_db\n",
                        "from api.mcp.mcp_tools.register_tool import tools\n",
                        "save_tool_to_db(\n",
                        "    name=\"天气查询\",\n",
                        "    description=\"根据地点查询天气\",\n",
                        "    curl_cmd='curl -X GET \"https://api.weatherapi.com/v1/current.json?key=c502ec55fecd4b0d969141024251008&q=hefei&lang=zh\" -H \"accept: application/json\"',\n",
                        "    auth_required=False,\n",
                        "    modifiable_fields={\"q\": \"城市名称\"},  # dict 格式\n",
                        "    usage_example={\"q\": \"Hefei\"}         # dict 格式\n",
                        ")\n",
                        "load_tool_from_db(\"天气查询\")\n",
                        "print(tools)"
                  ]
            },
            {
                  "cell_type": "code",
                  "execution_count": null,
                  "id": "a5e08caa",
                  "metadata": {},
                  "outputs": [],
                  "source": [
                        "result = tools[\"天气查询\"][\"func\"](params={\"q\": \"shanghai\"})"
                  ]
            },
            {
                  "cell_type": "code",
                  "execution_count": null,
                  "id": "1671c045",
                  "metadata": {},
                  "outputs": [],
                  "source": [
                        "print(result)"
                  ]
            },
            {
                  "cell_type": "code",
                  "execution_count": 3,
                  "id": "90f3c57b",
                  "metadata": {},
                  "outputs": [
                        {
                              "name": "stdout",
                              "output_type": "stream",
                              "text": [
                                    "Internal Server Error\n"
                              ]
                        }
                  ],
                  "source": [
                        "import requests\n",
                        "import json\n",
                        "from api.prompts.mcp_prompts import QUERY_BOOL\n",
                        "query_bool_prompt = QUERY_BOOL.format(question=\"今天上海天气怎么样\")\n",
                        "url = \"http://124.222.61.180:8000/chat/mcp/stream\"\n",
                        "url=\"http://127.0.0.1:8000/chat/mcp/stream\"\n",
                        "\n",
                        "payload = {\n",
                        "    \"model\": \"GLM-4.5-Flash\",\n",
                        "    \"message\": \"今天上海天气怎么样\"\n",
                        "}\n",
                        "\n",
                        "# 流式请求\n",
                        "with requests.post(url, json=payload, stream=True) as response:\n",
                        "    for line in response.iter_lines(decode_unicode=True):\n",
                        "        if line:\n",
                        "            try:\n",
                        "                # 如果服务端每行是 JSON，可以解析\n",
                        "                data = json.loads(line)\n",
                        "                print(\"流式输出:\", data.get(\"reply\", data))\n",
                        "            except json.JSONDecodeError:\n",
                        "                # 如果服务端每行是纯文本\n",
                        "                print(line)\n"
                  ]
            },
            {
                  "cell_type": "code",
                  "execution_count": 1,
                  "id": "bbc3d842",
                  "metadata": {},
                  "outputs": [],
                  "source": [
                        "from entension.my_openai import MyOpenAI as OpenAI\n",
                        "import os\n",
                        "from api.chat.chatbot.multi_tool_agent import check_answer_direct, select_tool, fill_tool_params\n",
                        "request_message=\"今天天气上海怎么样\"\n",
                        "SERVER_IP = os.environ.get(\"SERVER_IP\", \"\")\n",
                        "client = OpenAI(api_key=os.environ.get(\"PASSWORD\", \"\"),\n",
                        "                base_url=f\"http://{SERVER_IP}:8000/v1\")\n",
                        "query_bool=check_answer_direct(client, \"GLM-4.5-Flash\", request_message)"
                  ]
            },
            {
                  "cell_type": "code",
                  "execution_count": 2,
                  "id": "5cbef931",
                  "metadata": {},
                  "outputs": [
                        {
                              "name": "stdout",
                              "output_type": "stream",
                              "text": [
                                    "需要工具\n"
                              ]
                        }
                  ],
                  "source": [
                        "print(query_bool)"
                  ]
            },
            {
                  "cell_type": "code",
                  "execution_count": null,
                  "id": "3597c3d0",
                  "metadata": {},
                  "outputs": [
                        {
                              "name": "stdout",
                              "output_type": "stream",
                              "text": [
                                    "[REGISTER] Tool '天气查询' registered successfully!\n",
                                    "{'天气查询': {'func': <function parse_curl_and_register.<locals>.tool_func at 0x000001D516EB24D0>, 'auth_required': False}}\n"
                              ]
                        }
                  ],
                  "source": [
                        "from api.mcp.mcp_tools.tools import save_tool_to_db, load_tool_from_db,get_tool_details\n",
                        "from api.mcp.mcp_tools.register_tool import tools\n",
                        "load_tool_from_db(\"天气查询\")\n",
                        "print(tools)"
                  ]
            },
            {
                  "cell_type": "code",
                  "execution_count": 4,
                  "id": "7ecab662",
                  "metadata": {},
                  "outputs": [],
                  "source": [
                        "from api.mcp.mcp_tools.tools import get_tools_dict\n",
                        "tools_list = get_tools_dict()\n",
                        "seltc =select_tool(client, \"GLM-4.5-Flash\", request_message, tools_list)"
                  ]
            },
            {
                  "cell_type": "code",
                  "execution_count": 5,
                  "id": "a8c0644a",
                  "metadata": {},
                  "outputs": [
                        {
                              "data": {
                                    "text/plain": [
                                          "{'天气查询': '根据地点查询天气'}"
                                    ]
                              },
                              "execution_count": 5,
                              "metadata": {},
                              "output_type": "execute_result"
                        }
                  ],
                  "source": [
                        "tools_list"
                  ]
            },
            {
                  "cell_type": "code",
                  "execution_count": 6,
                  "id": "e69e3fb9",
                  "metadata": {},
                  "outputs": [
                        {
                              "data": {
                                    "text/plain": [
                                          "'根据地点查询天气'"
                                    ]
                              },
                              "execution_count": 6,
                              "metadata": {},
                              "output_type": "execute_result"
                        }
                  ],
                  "source": [
                        "tools_list[seltc]"
                  ]
            },
            {
                  "cell_type": "code",
                  "execution_count": 7,
                  "id": "ae8264d8",
                  "metadata": {},
                  "outputs": [],
                  "source": [
                        "details = get_tool_details(seltc)\n",
                        "details[\"modifiable_fields\"]\n",
                        "jsom=fill_tool_params(client,\"GLM-4.5-Flash\",request_message,seltc,tools_list[seltc],details)"
                  ]
            },
            {
                  "cell_type": "code",
                  "execution_count": 8,
                  "id": "27c0ec11",
                  "metadata": {},
                  "outputs": [
                        {
                              "data": {
                                    "text/plain": [
                                          "'{\"q\": \"上海\"}'"
                                    ]
                              },
                              "execution_count": 8,
                              "metadata": {},
                              "output_type": "execute_result"
                        }
                  ],
                  "source": [
                        "jsom"
                  ]
            },
            {
                  "cell_type": "code",
                  "execution_count": 10,
                  "id": "674f4746",
                  "metadata": {},
                  "outputs": [],
                  "source": [
                        "import json"
                  ]
            },
            {
                  "cell_type": "code",
                  "execution_count": 11,
                  "id": "e3312410",
                  "metadata": {},
                  "outputs": [],
                  "source": [
                        "obj = json.loads(jsom)"
                  ]
            },
            {
                  "cell_type": "code",
                  "execution_count": 12,
                  "id": "04a9822d",
                  "metadata": {},
                  "outputs": [
                        {
                              "data": {
                                    "text/plain": [
                                          "{'location': {'name': '上海',\n",
                                          "  'region': 'Shanghai',\n",
                                          "  'country': '中国',\n",
                                          "  'lat': 31.005,\n",
                                          "  'lon': 121.4086,\n",
                                          "  'tz_id': 'Asia/Shanghai',\n",
                                          "  'localtime_epoch': 1755351077,\n",
                                          "  'localtime': '2025-08-16 21:31'},\n",
                                          " 'current': {'last_updated_epoch': 1755351000,\n",
                                          "  'last_updated': '2025-08-16 21:30',\n",
                                          "  'temp_c': 30.3,\n",
                                          "  'temp_f': 86.5,\n",
                                          "  'is_day': 0,\n",
                                          "  'condition': {'text': '晴朗',\n",
                                          "   'icon': '//cdn.weatherapi.com/weather/64x64/night/113.png',\n",
                                          "   'code': 1000},\n",
                                          "  'wind_mph': 10.7,\n",
                                          "  'wind_kph': 17.3,\n",
                                          "  'wind_degree': 135,\n",
                                          "  'wind_dir': 'SE',\n",
                                          "  'pressure_mb': 1012.0,\n",
                                          "  'pressure_in': 29.88,\n",
                                          "  'precip_mm': 0.0,\n",
                                          "  'precip_in': 0.0,\n",
                                          "  'humidity': 75,\n",
                                          "  'cloud': 0,\n",
                                          "  'feelslike_c': 37.9,\n",
                                          "  'feelslike_f': 100.3,\n",
                                          "  'windchill_c': 27.9,\n",
                                          "  'windchill_f': 82.1,\n",
                                          "  'heatindex_c': 31.9,\n",
                                          "  'heatindex_f': 89.5,\n",
                                          "  'dewpoint_c': 24.0,\n",
                                          "  'dewpoint_f': 75.1,\n",
                                          "  'vis_km': 10.0,\n",
                                          "  'vis_miles': 6.0,\n",
                                          "  'uv': 0.0,\n",
                                          "  'gust_mph': 16.1,\n",
                                          "  'gust_kph': 25.8,\n",
                                          "  'short_rad': 0,\n",
                                          "  'diff_rad': 0,\n",
                                          "  'dni': 0,\n",
                                          "  'gti': 0}}"
                                    ]
                              },
                              "execution_count": 12,
                              "metadata": {},
                              "output_type": "execute_result"
                        }
                  ],
                  "source": [
                        "tools[\"天气查询\"][\"func\"](params=obj)"
                  ]
            },
            {
                  "cell_type": "code",
                  "execution_count": 13,
                  "id": "0d5fd87c",
                  "metadata": {},
                  "outputs": [
                        {
                              "name": "stdout",
                              "output_type": "stream",
                              "text": [
                                    "工具列表： {'tools': {'天气查询': '根据地点查询天气'}}\n"
                              ]
                        }
                  ],
                  "source": [
                        "import requests\n",
                        "\n",
                        "url = \"http://124.222.61.180:8000/tools\"  # 你的 FastAPI 默认本地地址\n",
                        "response = requests.get(url)\n",
                        "\n",
                        "if response.status_code == 200:\n",
                        "    data = response.json()\n",
                        "    print(\"工具列表：\", data)\n",
                        "else:\n",
                        "    print(\"请求失败\", response.status_code, response.text)\n"
                  ]
            },
            {
                  "cell_type": "code",
                  "execution_count": 10,
                  "id": "bff6d303",
                  "metadata": {},
                  "outputs": [
                        {
                              "name": "stdout",
                              "output_type": "stream",
                              "text": [
                                    "注册成功: {'message': '工具 天气查询abv 注册成功'}\n"
                              ]
                        }
                  ],
                  "source": [
                        "import requests\n",
                        "import json\n",
                        "\n",
                        "url = \"http://124.222.61.180:8000/tools/register\"\n",
                        "\n",
                        "# 构造请求 payload\n",
                        "payload = {\n",
                        "    \"name\": \"天气查询abv\",\n",
                        "    \"description\": \"根据地点查询天气\",\n",
                        "    \"curl\": \"curl https://api.weatherapi.com/v1/current.json?q=Hefei\",\n",
                        "    \"auth_required\": True,\n",
                        "    \"modifiable_fields\": {\"q\": \"城市名称\"},\n",
                        "    \"usage_example\": {\"q\": \"Hefei\"}\n",
                        "}\n",
                        "\n",
                        "# 发送 POST 请求\n",
                        "response = requests.post(url, data=json.dumps(payload), headers={\"Content-Type\": \"application/json\"})\n",
                        "\n",
                        "# 查看返回结果\n",
                        "if response.status_code == 200:\n",
                        "    print(\"注册成功:\", response.json())\n",
                        "else:\n",
                        "    print(\"注册失败:\", response.status_code, response.text)\n"
                  ]
            },
            {
                  "cell_type": "code",
                  "execution_count": 12,
                  "id": "ca96349c",
                  "metadata": {},
                  "outputs": [
                        {
                              "name": "stdout",
                              "output_type": "stream",
                              "text": [
                                    "删除成功: {'message': \"工具 '天气查询abv' 已删除\"}\n"
                              ]
                        }
                  ],
                  "source": [
                        "import requests\n",
                        "\n",
                        "tool_name = \"天气查询abv\"\n",
                        "url = f\"http://124.222.61.180:8000/tools/{tool_name}\"\n",
                        "\n",
                        "response = requests.delete(url)\n",
                        "\n",
                        "if response.status_code == 200:\n",
                        "    print(\"删除成功:\", response.json())\n",
                        "else:\n",
                        "    print(\"删除失败:\", response.status_code, response.text)\n"
                  ]
            }
      ],
      "metadata": {
            "kernelspec": {
                  "display_name": "llmbroker",
                  "language": "python",
                  "name": "python3"
            },
            "language_info": {
                  "codemirror_mode": {
                        "name": "ipython",
                        "version": 3
                  },
                  "file_extension": ".py",
                  "mimetype": "text/x-python",
                  "name": "python",
                  "nbconvert_exporter": "python",
                  "pygments_lexer": "ipython3",
                  "version": "3.10.18"
            }
      },
      "nbformat": 4,
      "nbformat_minor": 5
}
