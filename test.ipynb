{
      "cells": [
            {
                  "cell_type": "code",
                  "execution_count": 4,
                  "id": "6cd4f0d9",
                  "metadata": {},
                  "outputs": [
                        {
                              "name": "stdout",
                              "output_type": "stream",
                              "text": [
                                    "作为AI助手，我可以为你提供多种创作和写作相关的帮助：\n",
                                    "\n",
                                    "- 创作各类文学作品：小说、短篇故事、诗歌、剧本等\n",
                                    "- 提供写作建议和灵感，帮助你克服创作瓶颈\n",
                                    "- 润色和编辑已有作品，提升文笔和表达\n",
                                    "- 发展情节、塑造角色，丰富故事世界\n",
                                    "- 进行创意头脑风暴，探索新颖的叙事方式\n",
                                    "- 回答关于写作技巧、文学理论的问题\n",
                                    "- 协助进行角色扮演或创意对话\n",
                                    "\n",
                                    "我特别擅长构思引人入胜的故事情节，创造立体的人物形象，以及构建独特的故事世界。无论你需要完整的创作，还是写作过程中的某个环节的帮助，我都很乐意提供支持。\n",
                                    "\n",
                                    "有什么具体的创作需求或问题吗？"
                              ]
                        }
                  ],
                  "source": [
                        "import nest_asyncio\n",
                        "\n",
                        "nest_asyncio.apply()\n",
                        "\n",
                        "import asyncio\n",
                        "import httpx\n",
                        "\n",
                        "async def main():\n",
                        "    url = \"http://127.0.0.1:8000/chat/stream\"\n",
                        "    json_data = {\n",
                        "        \"model\": \"GLM-4.5-Flash\",\n",
                        "        \"message\": \"你可以做什么\"\n",
                        "    }\n",
                        "\n",
                        "    async with httpx.AsyncClient(timeout=None) as client:\n",
                        "        async with client.stream(\"POST\", url, json=json_data) as response:\n",
                        "            async for chunk in response.aiter_text():\n",
                        "                print(chunk, end=\"\", flush=True)\n",
                        "\n",
                        "asyncio.get_event_loop().run_until_complete(main())\n"
                  ]
            },
            {
                  "cell_type": "code",
                  "execution_count": 3,
                  "execution_count": 29,
                  "id": "99452881",
                  "metadata": {},
                  "outputs": [],
                  "source": [
                        "import requests\n",
                        "\n",
                        "url = \"http://124.222.61.180:8000/chat\"\n",
                        "# url=\"http://127.0.0.1:8000/chat\"\n",
                        "payload = {\n",
                        "    \"model\": \"GLM-4.5-Flash\",\n",
                        "    \"message\": \"请帮我写一个python请求示例\"\n",
                        "}\n",
                        "\n",
                        "response = requests.post(url, json=payload)\n",
                        "data = response.json()\n",
                        "\n",
                        "print(\"回复内容:\", data.get(\"reply\"))\n"
                  ]
            },
            {
                  "cell_type": "code",
                  "execution_count": 30,
                  "id": "9c75196a",
                  "metadata": {},
                  "outputs": [
                        {
                              "name": "stdout",
                              "output_type": "stream",
                              "text": [
                                    "你好！我是一个专注于小说创作的AI助手，被设计得既聪明又富有创造力。我可以帮你构思故事情节、塑造立体的人物形象、构建独特的世界观，以及撰写引人入胜的段落和章节。\n",
                                    "无论你需要科幻奇幻、悬疑推理、浪漫爱情还是历史题材的作品，我都能提供创意支持和写作帮助。我可以从零开始构建一个完整的故事框架，也可以在你已有想法的基础上进行扩展和完善。\n",
                                    "我的创作风格灵活多变，能够适应不同的文学流派和作者声音。我擅长捕捉情感细节，构建富有张力的场景，并编织出令人难忘的叙事体验。\n",
                                    "有什么故事想要讲述吗？我很乐意与你一起创作！\n"
                              ]
                        }
                  ],
                  "source": [
                        "import requests\n",
                        "import json\n",
                        "\n",
                        "url = \"http://124.222.61.180:8000/chat/stream\"\n",
                        "# url=\"http://127.0.0.1:8000/chat/stream\"\n",
                        "\n",
                        "payload = {\n",
                        "    \"model\": \"GLM-4.5-Flash\",\n",
                        "    \"message\": \"请介绍一下你自己\"\n",
                        "}\n",
                        "\n",
                        "# 流式请求\n",
                        "with requests.post(url, json=payload, stream=True) as response:\n",
                        "    for line in response.iter_lines(decode_unicode=True):\n",
                        "        if line:\n",
                        "            try:\n",
                        "                # 如果服务端每行是 JSON，可以解析\n",
                        "                data = json.loads(line)\n",
                        "                print(\"流式输出:\", data.get(\"reply\", data))\n",
                        "            except json.JSONDecodeError:\n",
                        "                # 如果服务端每行是纯文本\n",
                        "                print(line)\n"
                  ]
            },
            {
                  "cell_type": "code",
                  "execution_count": 35,
                  "id": "2a8eefc1",
                  "metadata": {},
                  "outputs": [
                        {
                              "name": "stdout",
                              "output_type": "stream",
                              "text": [
                                    "监控数据: {'status': 'ok', 'memory_mb': 69.68, 'uptime_sec': 1059}\n"
                              ]
                        }
                  ],
                  "source": [
                        "import requests\n",
                        "import os\n",
                        "import openai\n",
                        "\n",
                        "SERVER_IP = os.environ.get(\"SERVER_IP\", \"\")\n",
                        "response = requests.get(\"http://124.222.61.180:8000/monitor\")\n",
                        "if response.status_code == 200:\n",
                        "    data = response.json()\n",
                        "    print(\"监控数据:\", data)\n",
                        "else:\n",
                        "    print(\"请求失败，状态码:\", response.status_code)\n"
                  ]
            }
      ],
      "metadata": {
            "kernelspec": {
                  "display_name": "llmbroker",
                  "language": "python",
                  "name": "python3"
            },
            "language_info": {
                  "codemirror_mode": {
                        "name": "ipython",
                        "version": 3
                  },
                  "file_extension": ".py",
                  "mimetype": "text/x-python",
                  "name": "python",
                  "nbconvert_exporter": "python",
                  "pygments_lexer": "ipython3",
                  "version": "3.10.18"
            }
      },
      "nbformat": 4,
      "nbformat_minor": 5
}