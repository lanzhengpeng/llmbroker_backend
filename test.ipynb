{
 "cells": [
  {
   "cell_type": "code",
   "execution_count": 2,
   "id": "6cd4f0d9",
   "metadata": {},
   "outputs": [
    {
     "name": "stdout",
     "output_type": "stream",
     "text": [
      "作为AI助手，我可以为你提供多种创作和写作方面的帮助：\n",
      "\n",
      "1. 创作原创故事、小说、诗歌等文学作品\n",
      "2. 构思情节、角色发展和世界观设定\n",
      "3. 提供写作建议和灵感启发\n",
      "4. 协助编辑和润色现有文本\n",
      "5. 进行创意头脑风暴，帮助你突破创作瓶颈\n",
      "6. 分析文学作品的结构和技巧\n",
      "7. 帮助你探索不同的写作风格和体裁\n",
      "\n",
      "我擅长于构建引人入胜的叙事、创造立体的人物形象，以及营造丰富的场景氛围。无论你是需要完整的故事创作，还是写作过程中的灵感和建议，我都可以提供支持。\n",
      "\n",
      "你有什么具体的创作需求或想法想要分享吗？"
     ]
    }
   ],
   "source": [
    "import nest_asyncio\n",
    "\n",
    "nest_asyncio.apply()\n",
    "\n",
    "import asyncio\n",
    "import httpx\n",
    "\n",
    "async def main():\n",
    "    url = \"http://127.0.0.1:8000/chat/stream\"\n",
    "    json_data = {\n",
    "        \"model\": \"GLM-4.5-Flash\",\n",
    "        \"message\": \"你可以做什么\"\n",
    "    }\n",
    "\n",
    "    async with httpx.AsyncClient(timeout=None) as client:\n",
    "        async with client.stream(\"POST\", url, json=json_data) as response:\n",
    "            async for chunk in response.aiter_text():\n",
    "                print(chunk, end=\"\", flush=True)\n",
    "\n",
    "asyncio.get_event_loop().run_until_complete(main())\n"
   ]
  },
  {
   "cell_type": "code",
   "execution_count": null,
   "id": "99452881",
   "metadata": {},
   "outputs": [],
   "source": [
    "import requests\n",
    "\n",
    "url = \"http://127.0.0.1:8000/chat\"\n",
    "payload = {\n",
    "    \"model\": \"GLM-4.5-Flash\",\n",
    "    \"message\": \"请帮我写一个python请求示例\"\n",
    "}\n",
    "\n",
    "response = requests.post(url, json=payload)\n",
    "data = response.json()\n",
    "\n",
    "print(\"回复内容:\", data.get(\"reply\"))\n"
   ]
  }
 ],
 "metadata": {
  "kernelspec": {
   "display_name": "llmbroker_backend",
   "language": "python",
   "name": "python3"
  },
  "language_info": {
   "codemirror_mode": {
    "name": "ipython",
    "version": 3
   },
   "file_extension": ".py",
   "mimetype": "text/x-python",
   "name": "python",
   "nbconvert_exporter": "python",
   "pygments_lexer": "ipython3",
   "version": "3.9.23"
  }
 },
 "nbformat": 4,
 "nbformat_minor": 5
}
